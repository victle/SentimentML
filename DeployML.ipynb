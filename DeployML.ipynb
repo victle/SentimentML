{
 "cells": [
  {
   "cell_type": "markdown",
   "id": "454893e2",
   "metadata": {},
   "source": [
    "# Sentiment Analysis of Tweets and Deploying Model for Web Use with Heroku"
   ]
  },
  {
   "cell_type": "code",
   "execution_count": 2,
   "id": "cd7d5579",
   "metadata": {
    "ExecuteTime": {
     "end_time": "2021-04-10T04:18:12.382718Z",
     "start_time": "2021-04-10T04:18:08.615052Z"
    }
   },
   "outputs": [
    {
     "name": "stdout",
     "output_type": "stream",
     "text": [
      "INFO:tensorflow:Enabling eager execution\n",
      "INFO:tensorflow:Enabling v2 tensorshape\n",
      "INFO:tensorflow:Enabling resource variables\n",
      "INFO:tensorflow:Enabling tensor equality\n",
      "INFO:tensorflow:Enabling control flow v2\n"
     ]
    }
   ],
   "source": [
    "import pandas as pd\n",
    "from tensorflow.keras.preprocessing.text import Tokenizer\n",
    "from tensorflow.keras.preprocessing.sequence import pad_sequences\n",
    "from tensorflow.keras.models import Sequential\n",
    "from tensorflow.keras.layers import Dense, Embedding, LSTM, SpatialDropout1D\n",
    "from sklearn.model_selection import train_test_split\n",
    "import re # regular expression "
   ]
  },
  {
   "cell_type": "markdown",
   "id": "c3ccdea0",
   "metadata": {},
   "source": [
    "# Load in the data and do some preprocessing"
   ]
  },
  {
   "cell_type": "code",
   "execution_count": 3,
   "id": "b480341c",
   "metadata": {
    "ExecuteTime": {
     "end_time": "2021-04-10T04:18:12.493092Z",
     "start_time": "2021-04-10T04:18:12.383718Z"
    }
   },
   "outputs": [
    {
     "name": "stdout",
     "output_type": "stream",
     "text": [
      "                                                text sentiment\n",
      "0  RT @NancyLeeGrahn: How did everyone feel about...   Neutral\n",
      "1  RT @ScottWalker: Didn't catch the full #GOPdeb...  Positive\n",
      "2  RT @TJMShow: No mention of Tamir Rice and the ...   Neutral\n",
      "3  RT @RobGeorge: That Carly Fiorina is trending ...  Positive\n",
      "4  RT @DanScavino: #GOPDebate w/ @realDonaldTrump...  Positive\n"
     ]
    }
   ],
   "source": [
    "# Sentiment data can be found on kaggle @ \n",
    "data = pd.read_csv('./Sentiment.csv')\n",
    "\n",
    "# We only care about the \"text\" and the \"sentiment\" columns\n",
    "data = data[['text','sentiment']]\n",
    "print(data.head())"
   ]
  },
  {
   "cell_type": "markdown",
   "id": "7dc2769e",
   "metadata": {},
   "source": [
    "## Use RegEx to get rid of unnecessary characters in the Tweets"
   ]
  },
  {
   "cell_type": "code",
   "execution_count": 4,
   "id": "319e5ff2",
   "metadata": {
    "ExecuteTime": {
     "end_time": "2021-04-10T04:18:13.052212Z",
     "start_time": "2021-04-10T04:18:12.495094Z"
    }
   },
   "outputs": [
    {
     "name": "stdout",
     "output_type": "stream",
     "text": [
      "                                                text sentiment\n",
      "0   nancyleegahn how did eveyone feel abou he cli...   Neutral\n",
      "1   scowalke didn cach he full gopdebae las nigh ...  Positive\n",
      "2   jmshow no menion of ami ice and he gopdebae w...   Neutral\n",
      "3   obgeoge ha caly fioina is ending  hous afe he...  Positive\n",
      "4   danscavino gopdebae w ealdonaldump deliveed h...  Positive\n"
     ]
    }
   ],
   "source": [
    "# Define a function for applying to all the texts \n",
    "def preprocess_data(text):\n",
    "    text = text.lower()\n",
    "    new_text = re.sub('[^a-zA-Z0-9\\s]','',text) # replace anything that's not alphanumeric or a space with empty spaces \n",
    "    new_text = re.sub('[rt]', '', new_text) #similarly, get rid of the retweet\n",
    "    return new_text\n",
    "\n",
    "# apply to each row with pandas \n",
    "data['text'] = data['text'].apply(preprocess_data)\n",
    "print(data.head())"
   ]
  },
  {
   "cell_type": "markdown",
   "id": "e0665d48",
   "metadata": {},
   "source": [
    "## Tokenize and pad the texts"
   ]
  },
  {
   "cell_type": "code",
   "execution_count": 5,
   "id": "5724970b",
   "metadata": {
    "ExecuteTime": {
     "end_time": "2021-04-10T04:18:14.084796Z",
     "start_time": "2021-04-10T04:18:13.054214Z"
    }
   },
   "outputs": [
    {
     "name": "stdout",
     "output_type": "stream",
     "text": [
      "['Neutral' 'Positive' 'Negative']\n"
     ]
    }
   ],
   "source": [
    "max_features = 2000\n",
    "\n",
    "tokenizer = Tokenizer(num_words = max_features, split=' ') # Token and keep the 2000 most common words\n",
    "tokenizer.fit_on_texts(data['text'].to_numpy()) # must be a list of strings \n",
    "X = tokenizer.texts_to_sequences(data['text'].values) # convert to a sequence of integers \n",
    "X = pad_sequences(X, 28) # truncate at length 28\n",
    "\n",
    "# check if there are any weird data points in the sentiments\n",
    "print(data['sentiment'].unique()) # there were no Null values, can proceed to make dummy variables\n",
    "Y = pd.get_dummies(data['sentiment']).to_numpy()"
   ]
  },
  {
   "cell_type": "markdown",
   "id": "c1186cf4",
   "metadata": {},
   "source": [
    "## A tiny bit of visualization"
   ]
  },
  {
   "cell_type": "code",
   "execution_count": 6,
   "id": "ed34e40a",
   "metadata": {
    "ExecuteTime": {
     "end_time": "2021-04-10T04:18:14.500058Z",
     "start_time": "2021-04-10T04:18:14.086797Z"
    }
   },
   "outputs": [
    {
     "data": {
      "image/png": "[encoded data removed]",
      "text/plain": [
       "<Figure size 432x288 with 1 Axes>"
      ]
     },
     "metadata": {},
     "output_type": "display_data"
    }
   ],
   "source": [
    "# What does the spread of our data look like? \n",
    "import matplotlib.pyplot as plt\n",
    "sizes = data['sentiment'].value_counts()\n",
    "labels = sizes.index.values\n",
    "\n",
    "plt.pie(sizes, labels = labels, autopct='%1.1f%%', startangle = 90)\n",
    "plt.show()\n",
    "# maybe the GOP could do with a little more positivity! \n",
    "# In seriousness, our data doesn't seem too imbalanced to be an issue"
   ]
  },
  {
   "cell_type": "markdown",
   "id": "6e924c83",
   "metadata": {},
   "source": [
    "# Building and training the model"
   ]
  },
  {
   "cell_type": "code",
   "execution_count": 7,
   "id": "99e36308",
   "metadata": {
    "ExecuteTime": {
     "end_time": "2021-04-10T04:18:14.595652Z",
     "start_time": "2021-04-10T04:18:14.590648Z"
    }
   },
   "outputs": [],
   "source": [
    "X_train, X_test, Y_train, Y_test = train_test_split(X,Y, test_size = 0.20) # can use sklearn.model_selection method \n",
    "\n",
    "# We can also use pandas' sample function, but our data is currently in lists rather than DataFrames"
   ]
  },
  {
   "cell_type": "markdown",
   "id": "c462fb16",
   "metadata": {},
   "source": [
    "## Design a deep learning model"
   ]
  },
  {
   "cell_type": "code",
   "execution_count": 8,
   "id": "c7f31fbe",
   "metadata": {
    "ExecuteTime": {
     "end_time": "2021-04-10T04:18:17.197763Z",
     "start_time": "2021-04-10T04:18:16.382647Z"
    }
   },
   "outputs": [],
   "source": [
    "# To compile under Tensorflow 2, need to downgrade to numpy version 1.19.5\n",
    "embed_dim = 128\n",
    "lstm_out = 196\n",
    "\n",
    "# Design the architecture of the model, use an embedding and some LSTM layers \n",
    "model = Sequential()\n",
    "model.add(Embedding(max_features, embed_dim, input_length = X.shape[1]))\n",
    "model.add(SpatialDropout1D(0.4))\n",
    "model.add(LSTM(lstm_out, dropout=0.3, recurrent_dropout=0.2, return_sequences=True))\n",
    "model.add(LSTM(128, recurrent_dropout = 0.2))\n",
    "model.add(Dense(3, activation = 'softmax'))\n",
    "\n",
    "# Compile the model \n",
    "model.compile(loss = 'categorical_crossentropy', optimizer = 'adam', metrics = ['accuracy'])"
   ]
  },
  {
   "cell_type": "markdown",
   "id": "e3b4674a",
   "metadata": {},
   "source": [
    "## Fit the model"
   ]
  },
  {
   "cell_type": "code",
   "execution_count": 11,
   "id": "e9badd24",
   "metadata": {
    "ExecuteTime": {
     "end_time": "2021-04-10T04:25:48.844682Z",
     "start_time": "2021-04-10T04:23:27.454428Z"
    }
   },
   "outputs": [
    {
     "name": "stdout",
     "output_type": "stream",
     "text": [
      "Epoch 1/10\n",
      "22/22 [==============================] - 14s 622ms/step - loss: 0.5525 - accuracy: 0.7646 - val_loss: 0.8086 - val_accuracy: 0.6814\n",
      "Epoch 2/10\n",
      "22/22 [==============================] - 13s 614ms/step - loss: 0.5415 - accuracy: 0.7700 - val_loss: 0.8096 - val_accuracy: 0.6656\n",
      "Epoch 3/10\n",
      "22/22 [==============================] - 14s 638ms/step - loss: 0.5311 - accuracy: 0.7724 - val_loss: 0.8114 - val_accuracy: 0.6692\n",
      "Epoch 4/10\n",
      "22/22 [==============================] - 14s 642ms/step - loss: 0.5187 - accuracy: 0.7800 - val_loss: 0.8566 - val_accuracy: 0.6724\n",
      "Epoch 5/10\n",
      "22/22 [==============================] - 14s 642ms/step - loss: 0.5130 - accuracy: 0.7806 - val_loss: 0.8390 - val_accuracy: 0.6721\n",
      "Epoch 6/10\n",
      "22/22 [==============================] - 14s 642ms/step - loss: 0.5003 - accuracy: 0.7872 - val_loss: 0.8628 - val_accuracy: 0.6688\n",
      "Epoch 7/10\n",
      "22/22 [==============================] - 15s 661ms/step - loss: 0.4948 - accuracy: 0.7895 - val_loss: 0.8809 - val_accuracy: 0.6645\n",
      "Epoch 8/10\n",
      "22/22 [==============================] - 14s 642ms/step - loss: 0.4777 - accuracy: 0.8017 - val_loss: 0.9106 - val_accuracy: 0.6649\n",
      "Epoch 9/10\n",
      "22/22 [==============================] - 14s 656ms/step - loss: 0.4687 - accuracy: 0.8033 - val_loss: 0.9415 - val_accuracy: 0.6613\n",
      "Epoch 10/10\n",
      "22/22 [==============================] - 15s 678ms/step - loss: 0.4628 - accuracy: 0.8056 - val_loss: 1.0040 - val_accuracy: 0.6656\n"
     ]
    }
   ],
   "source": [
    "batch_size = 512\n",
    "history = model.fit(X_train, Y_train, epochs = 10, batch_size = batch_size, validation_data = (X_test, Y_test))"
   ]
  },
  {
   "cell_type": "code",
   "execution_count": 12,
   "id": "b5e70f8d",
   "metadata": {
    "ExecuteTime": {
     "end_time": "2021-04-10T04:26:20.160326Z",
     "start_time": "2021-04-10T04:26:19.854415Z"
    }
   },
   "outputs": [],
   "source": [
    "# Let's save the model! \n",
    "model.save('sentiment.h5')"
   ]
  },
  {
   "cell_type": "markdown",
   "id": "4a2deb43",
   "metadata": {},
   "source": [
    "# Visualize performance of the model"
   ]
  },
  {
   "cell_type": "code",
   "execution_count": 17,
   "id": "ecd99de5",
   "metadata": {
    "ExecuteTime": {
     "end_time": "2021-04-10T04:28:46.962519Z",
     "start_time": "2021-04-10T04:28:46.726292Z"
    }
   },
   "outputs": [
    {
     "data": {
      "image/png": "[encoded data removed]",
      "text/plain": [
       "<Figure size 432x288 with 1 Axes>"
      ]
     },
     "metadata": {
      "needs_background": "light"
     },
     "output_type": "display_data"
    },
    {
     "data": {
      "image/png": "[encoded data removed]",
      "text/plain": [
       "<Figure size 432x288 with 1 Axes>"
      ]
     },
     "metadata": {
      "needs_background": "light"
     },
     "output_type": "display_data"
    }
   ],
   "source": [
    "# Let's visualize our model's performance a bit\n",
    "plt.plot(history.history['accuracy'])\n",
    "plt.plot(history.history['val_accuracy'])\n",
    "plt.title('Sentiment Model Accuracy')\n",
    "plt.ylabel('Accuracy')\n",
    "plt.xlabel('Epochs')\n",
    "plt.legend(['Training','Testing'])\n",
    "plt.show()\n",
    "\n",
    "plt.plot(history.history[ 'loss' ])\n",
    "plt.plot(history.history[ 'val_loss' ])\n",
    "plt.title( 'model loss' )\n",
    "plt.ylabel( 'loss' )\n",
    "plt.xlabel( 'epoch' )\n",
    "plt.legend([ 'train' , 'test' ], loc= 'upper left' )\n",
    "plt.show()"
   ]
  }
 ],
 "metadata": {
  "kernelspec": {
   "display_name": "Python 3",
   "language": "python",
   "name": "python3"
  },
  "language_info": {
   "codemirror_mode": {
    "name": "ipython",
    "version": 3
   },
   "file_extension": ".py",
   "mimetype": "text/x-python",
   "name": "python",
   "nbconvert_exporter": "python",
   "pygments_lexer": "ipython3",
   "version": "3.9.2"
  },
  "toc": {
   "base_numbering": 1,
   "nav_menu": {},
   "number_sections": true,
   "sideBar": true,
   "skip_h1_title": false,
   "title_cell": "Table of Contents",
   "title_sidebar": "Contents",
   "toc_cell": false,
   "toc_position": {},
   "toc_section_display": true,
   "toc_window_display": false
  }
 },
 "nbformat": 4,
 "nbformat_minor": 5
}
